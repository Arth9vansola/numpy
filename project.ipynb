{
 "cells": [
  {
   "cell_type": "markdown",
   "id": "7f2bc73c",
   "metadata": {},
   "source": [
    "# project"
   ]
  },
  {
   "cell_type": "markdown",
   "id": "4cf4ae3e",
   "metadata": {},
   "source": []
  }
 ],
 "metadata": {
  "language_info": {
   "name": "python"
  }
 },
 "nbformat": 4,
 "nbformat_minor": 5
}
