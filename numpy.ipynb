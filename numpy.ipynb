{
 "cells": [
  {
   "cell_type": "code",
   "execution_count": 2,
   "id": "0211073a",
   "metadata": {},
   "outputs": [],
   "source": [
    "import numpy as np\n"
   ]
  },
  {
   "cell_type": "code",
   "execution_count": 2,
   "id": "a48f48fc",
   "metadata": {},
   "outputs": [],
   "source": [
    "n_array = np.array([1,2,3])"
   ]
  },
  {
   "cell_type": "code",
   "execution_count": 3,
   "id": "259e6cb7",
   "metadata": {},
   "outputs": [
    {
     "name": "stdout",
     "output_type": "stream",
     "text": [
      "[1 2 3]\n"
     ]
    }
   ],
   "source": [
    "print(n_array)\n",
    "\n"
   ]
  },
  {
   "cell_type": "code",
   "execution_count": 4,
   "id": "a94990da",
   "metadata": {},
   "outputs": [
    {
     "name": "stdout",
     "output_type": "stream",
     "text": [
      "[[0. 0. 0.]\n",
      " [0. 0. 0.]]\n"
     ]
    }
   ],
   "source": [
    "nl_array = np.zeros((2,3))\n",
    "print(nl_array)"
   ]
  },
  {
   "cell_type": "code",
   "execution_count": 5,
   "id": "b6fa475d",
   "metadata": {},
   "outputs": [
    {
     "name": "stdout",
     "output_type": "stream",
     "text": [
      "[[1. 1. 1.]\n",
      " [1. 1. 1.]]\n"
     ]
    }
   ],
   "source": [
    "nl2_array = np.ones((2,3))\n",
    "print(nl2_array)"
   ]
  },
  {
   "cell_type": "code",
   "execution_count": null,
   "id": "be165e99",
   "metadata": {},
   "outputs": [],
   "source": []
  },
  {
   "cell_type": "markdown",
   "id": "fea28cf2",
   "metadata": {},
   "source": [
    "# full array\n"
   ]
  },
  {
   "cell_type": "code",
   "execution_count": 6,
   "id": "7ade32f2",
   "metadata": {},
   "outputs": [
    {
     "name": "stdout",
     "output_type": "stream",
     "text": [
      "[[7 7 7 7 7 7 7 7 7 7]\n",
      " [7 7 7 7 7 7 7 7 7 7]\n",
      " [7 7 7 7 7 7 7 7 7 7]\n",
      " [7 7 7 7 7 7 7 7 7 7]\n",
      " [7 7 7 7 7 7 7 7 7 7]\n",
      " [7 7 7 7 7 7 7 7 7 7]\n",
      " [7 7 7 7 7 7 7 7 7 7]\n",
      " [7 7 7 7 7 7 7 7 7 7]\n",
      " [7 7 7 7 7 7 7 7 7 7]\n",
      " [7 7 7 7 7 7 7 7 7 7]]\n"
     ]
    }
   ],
   "source": [
    "full_array = np.full((10,10),7)\n",
    "print(full_array)"
   ]
  },
  {
   "cell_type": "markdown",
   "id": "18200d23",
   "metadata": {},
   "source": [
    "# to create sequence of number arange(start,stop,step)"
   ]
  },
  {
   "cell_type": "code",
   "execution_count": 7,
   "id": "39040e91",
   "metadata": {},
   "outputs": [
    {
     "name": "stdout",
     "output_type": "stream",
     "text": [
      "[1 4 7]\n"
     ]
    }
   ],
   "source": [
    "array1 = np.arange(1,10,3)\n",
    "print(array1)"
   ]
  },
  {
   "cell_type": "markdown",
   "id": "c9bbe034",
   "metadata": {},
   "source": [
    "# identity matrices"
   ]
  },
  {
   "cell_type": "code",
   "execution_count": 5,
   "id": "37e5fc4e",
   "metadata": {},
   "outputs": [
    {
     "name": "stdout",
     "output_type": "stream",
     "text": [
      "[[1. 0. 0.]\n",
      " [0. 1. 0.]\n",
      " [0. 0. 1.]]\n"
     ]
    }
   ],
   "source": [
    "identity_matrices = np.eye((3))\n",
    "print(identity_matrices)"
   ]
  },
  {
   "cell_type": "markdown",
   "id": "a00afdaf",
   "metadata": {},
   "source": [
    "# know the shape of array using .shape function in short to know the dimensions"
   ]
  },
  {
   "cell_type": "code",
   "execution_count": 9,
   "id": "89080385",
   "metadata": {},
   "outputs": [
    {
     "name": "stdout",
     "output_type": "stream",
     "text": [
      "(2, 3)\n"
     ]
    }
   ],
   "source": [
    "array2 = np.array([[5,10,6],\n",
    "                  [8,2,3]])\n",
    "print(array2.shape)"
   ]
  },
  {
   "cell_type": "markdown",
   "id": "3e5f5bfe",
   "metadata": {},
   "source": [
    "# size is used for to know how many elements are there in array"
   ]
  },
  {
   "cell_type": "code",
   "execution_count": 10,
   "id": "3c3b050d",
   "metadata": {},
   "outputs": [
    {
     "name": "stdout",
     "output_type": "stream",
     "text": [
      "9\n"
     ]
    }
   ],
   "source": [
    "array3 = np.array([[10,20,30],[40,50,60],[70,80,90]])\n",
    "print(array3.size)"
   ]
  },
  {
   "cell_type": "markdown",
   "id": "78b61d48",
   "metadata": {},
   "source": [
    "# .ndim function is used to see that how many number of dimensions are exist"
   ]
  },
  {
   "cell_type": "code",
   "execution_count": 11,
   "id": "f40762cb",
   "metadata": {},
   "outputs": [
    {
     "name": "stdout",
     "output_type": "stream",
     "text": [
      "1\n",
      "2\n",
      "3\n"
     ]
    }
   ],
   "source": [
    "arr4 = np.array([10,20,30])\n",
    "arr5 = np.array([[10,20,30],[40,50,60]])\n",
    "arr6 = np.array([[[10,20,30],[40,50,60],[70,80,90]]])\n",
    "print(arr4.ndim)\n",
    "print(arr5.ndim)\n",
    "print(arr6.ndim)"
   ]
  },
  {
   "cell_type": "markdown",
   "id": "9056cf62",
   "metadata": {},
   "source": [
    "# .dtype function used to know that what are the data types are there present in array like int float string"
   ]
  },
  {
   "cell_type": "code",
   "execution_count": 12,
   "id": "d86a9461",
   "metadata": {},
   "outputs": [
    {
     "name": "stdout",
     "output_type": "stream",
     "text": [
      "int64\n",
      "float64\n"
     ]
    }
   ],
   "source": [
    "arr7 = np.array([10,20,30])\n",
    "arr8 = np.array([[10,20.5,30],[40,50,60]])\n",
    "\n",
    "print(arr7.dtype)\n",
    "print(arr8.dtype)"
   ]
  },
  {
   "cell_type": "markdown",
   "id": "485b2395",
   "metadata": {},
   "source": [
    "# .astype is used to convert one datatype into another one"
   ]
  },
  {
   "cell_type": "code",
   "execution_count": 13,
   "id": "841b55d8",
   "metadata": {},
   "outputs": [
    {
     "name": "stdout",
     "output_type": "stream",
     "text": [
      "float64\n",
      "[5 8 8]\n",
      "int64\n"
     ]
    }
   ],
   "source": [
    "arr9 = np.array([5.6,8,8.9])\n",
    "print(arr9.dtype)\n",
    "int_arr = arr9.astype(int)\n",
    "print(int_arr)\n",
    "print(int_arr.dtype)"
   ]
  },
  {
   "cell_type": "markdown",
   "id": "4133d6e6",
   "metadata": {},
   "source": [
    "# some mathimatical operations"
   ]
  },
  {
   "cell_type": "code",
   "execution_count": 14,
   "id": "1b94d3a2",
   "metadata": {},
   "outputs": [
    {
     "name": "stdout",
     "output_type": "stream",
     "text": [
      "[15 25 35]\n",
      "[ 5 15 25]\n",
      "[ 50 100 150]\n",
      "[2. 4. 6.]\n",
      "[  100000  3200000 24300000]\n",
      "[2 4 6]\n"
     ]
    }
   ],
   "source": [
    "arr10 = np.array([10,20,30])\n",
    "print(arr10 + 5)\n",
    "print(arr10 - 5)\n",
    "print(arr10 * 5)\n",
    "print(arr10 / 5)\n",
    "print(arr10 ** 5)\n",
    "print(arr10 // 5)"
   ]
  },
  {
   "cell_type": "markdown",
   "id": "e6047076",
   "metadata": {},
   "source": [
    "# aggregation function is used to summerize all of the data, means perfoming some operation on it\n",
    "1. np.sum(array)\n",
    "2. np.mean(array)\n",
    "3. np.max(array)\n",
    "4. np.min(array)\n",
    "5. np.std(array)\n",
    "7. np.var(array)"
   ]
  },
  {
   "cell_type": "code",
   "execution_count": 15,
   "id": "b049907b",
   "metadata": {},
   "outputs": [
    {
     "name": "stdout",
     "output_type": "stream",
     "text": [
      "280\n",
      "40\n",
      "70\n",
      "10\n",
      "20\n",
      "400\n"
     ]
    }
   ],
   "source": [
    "arr11 = np.array([10,20,30,40,50,60,70])\n",
    "print(np.sum(arr11))\n",
    "int_type = np.mean(arr11)\n",
    "print(int_type.astype(int))\n",
    "print(np.max(arr11))\n",
    "print(np.min(arr11))\n",
    "int_type2 = np.std(arr11)\n",
    "print(int_type2.astype(int))\n",
    "int_type3 = np.var(arr11)\n",
    "print(int_type3.astype(int))"
   ]
  },
  {
   "cell_type": "markdown",
   "id": "0289b774",
   "metadata": {},
   "source": [
    "# indexing : to access particular element from an array by it's index -> starts with zero\n",
    "\n",
    "1. for 1d array : array[row]\n",
    "2. for 2d array : array[row,column]\n",
    "\n"
   ]
  },
  {
   "cell_type": "code",
   "execution_count": 16,
   "id": "4ca976b7",
   "metadata": {},
   "outputs": [
    {
     "name": "stdout",
     "output_type": "stream",
     "text": [
      "60\n",
      "70\n"
     ]
    }
   ],
   "source": [
    "arr23 = np.array([50,60,70])\n",
    "arr24 = np.array([[50,60,70],[50,90,80]])\n",
    "print(arr23[1])\n",
    "print(arr24[0,2])"
   ]
  },
  {
   "cell_type": "markdown",
   "id": "d7c22ffe",
   "metadata": {},
   "source": [
    "# slicing : extracting subarray from a main array\n",
    "  array[start:stop:step]"
   ]
  },
  {
   "cell_type": "code",
   "execution_count": 17,
   "id": "b6c1c0ed",
   "metadata": {},
   "outputs": [
    {
     "name": "stdout",
     "output_type": "stream",
     "text": [
      "[10 50 60 70 80]\n",
      "[10 50 60 70 80]\n",
      "[10 50 60 70 80 20 30]\n",
      "[30 20 80 70 60 50 10]\n",
      "[10 50 60 70 80 20 30]\n"
     ]
    }
   ],
   "source": [
    "arr25 = np.array([10,50,60,70,80,20,30])\n",
    "print(arr25[0:5])\n",
    "print(arr25[:5])\n",
    "print(arr25[0:])\n",
    "print(arr25[::-1])\n",
    "print(arr25[0:8])"
   ]
  },
  {
   "cell_type": "markdown",
   "id": "1e0ef66b",
   "metadata": {},
   "source": [
    "# fancy indexing : selecting multiple elements at once"
   ]
  },
  {
   "cell_type": "code",
   "execution_count": 18,
   "id": "82cf63a0",
   "metadata": {},
   "outputs": [
    {
     "name": "stdout",
     "output_type": "stream",
     "text": [
      "[10 60 20]\n"
     ]
    }
   ],
   "source": [
    "arr26 = np.array([10,50,60,70,80,20,30])\n",
    "print(arr26[[0,2,5]])"
   ]
  },
  {
   "cell_type": "markdown",
   "id": "f05c4a97",
   "metadata": {},
   "source": [
    "# boolean masking : selecting or filtering elements based upon conditions, in this there is copy of main array is created so after condition main array remain unchanged there is no changes occures on it"
   ]
  },
  {
   "cell_type": "code",
   "execution_count": 19,
   "id": "ddc1b73d",
   "metadata": {},
   "outputs": [
    {
     "name": "stdout",
     "output_type": "stream",
     "text": [
      "[50 60 70 80 30]\n"
     ]
    }
   ],
   "source": [
    "arr27 = np.array([10,50,60,70,80,20,30])\n",
    "print(arr27[arr27 > 20])"
   ]
  },
  {
   "cell_type": "markdown",
   "id": "e093d3a8",
   "metadata": {},
   "source": [
    "# reshaping : changing dimensions of given array without changing elements of it and it happen if dimentions match means if array is likely eligible to convert into other dimensions\n",
    "-> reshaping returns view means it will create new array from an old array and old array get affected"
   ]
  },
  {
   "cell_type": "code",
   "execution_count": 20,
   "id": "614e47c6",
   "metadata": {},
   "outputs": [
    {
     "name": "stdout",
     "output_type": "stream",
     "text": [
      "[[2 3 5 6]\n",
      " [8 9 5 9]]\n"
     ]
    }
   ],
   "source": [
    "arr33 = np.array([2,3,5,6,8,9,5,9])\n",
    "print(arr33.reshape(2,4))"
   ]
  },
  {
   "cell_type": "markdown",
   "id": "d3198208",
   "metadata": {},
   "source": [
    "# .ravel() -> gives view of array means changes in array\n",
    ".flatten() -> gives copy of an array - >>> these both are used to convert multidimensional array to 1d array"
   ]
  },
  {
   "cell_type": "code",
   "execution_count": 21,
   "id": "fc785d80",
   "metadata": {},
   "outputs": [
    {
     "name": "stdout",
     "output_type": "stream",
     "text": [
      "[3 5 6 8 9 5]\n",
      "[3 5 6 8 9 5]\n"
     ]
    }
   ],
   "source": [
    "arr33 = np.array([[3,5,6],[8,9,5]])\n",
    "print(arr33.ravel())\n",
    "print(arr33.flatten())"
   ]
  },
  {
   "cell_type": "markdown",
   "id": "816f9cfe",
   "metadata": {},
   "source": [
    "# .insert to insert value in array because it has fixed size and we have to add manually there\n",
    "0. syntax : .insert(array, index, value, axis) axis = 0 -> row wise, axis = 1 -> column wise"
   ]
  },
  {
   "cell_type": "code",
   "execution_count": 22,
   "id": "61a2c519",
   "metadata": {},
   "outputs": [
    {
     "name": "stdout",
     "output_type": "stream",
     "text": [
      "[  3   5 100   6   8   9   5]\n"
     ]
    }
   ],
   "source": [
    "arr33 = np.array([3,5,6,8,9,5])\n",
    "print(np.insert(arr33,2,100,axis=0))"
   ]
  },
  {
   "cell_type": "code",
   "execution_count": 23,
   "id": "f1083888",
   "metadata": {},
   "outputs": [
    {
     "name": "stdout",
     "output_type": "stream",
     "text": [
      "[[3 5 5 9]\n",
      " [8 6 9 6]\n",
      " [5 8 9 8]]\n"
     ]
    }
   ],
   "source": [
    "arr33 = np.array([[3,5,9],[8,9,6],[5,9,8]])\n",
    "print(np.insert(arr33,1,[5,6,8],axis=1))"
   ]
  },
  {
   "cell_type": "markdown",
   "id": "9d112d0d",
   "metadata": {},
   "source": [
    "# .append is used to add array after the array and it will give the copy of the array"
   ]
  },
  {
   "cell_type": "code",
   "execution_count": 24,
   "id": "163a1185",
   "metadata": {},
   "outputs": [
    {
     "name": "stdout",
     "output_type": "stream",
     "text": [
      "[3 5 6 8 9 5]\n",
      "[3 5 6 8 9 5 5 9 8]\n"
     ]
    }
   ],
   "source": [
    "arr33 = np.array([3,5,6,8,9,5])\n",
    "print(arr33)\n",
    "print(np.append(arr33,[5,9,8]))"
   ]
  },
  {
   "cell_type": "markdown",
   "id": "3ad52db4",
   "metadata": {},
   "source": [
    "# .concatenate used to add two arrays\n",
    "axis = 0 -> vertical stacking\n",
    "axis = 1 -> horizontal stacking"
   ]
  },
  {
   "cell_type": "code",
   "execution_count": 8,
   "id": "5764a30a",
   "metadata": {},
   "outputs": [
    {
     "name": "stdout",
     "output_type": "stream",
     "text": [
      "[1 2 3 4 5 6]\n"
     ]
    }
   ],
   "source": [
    "arr1 = np.array([1,2,3])\n",
    "arr2 = np.array([4,5,6])\n",
    "print(np.concatenate((arr1,arr2),axis=0))"
   ]
  },
  {
   "cell_type": "markdown",
   "id": "00581a2c",
   "metadata": {},
   "source": [
    "# .delete is used to delete an array\n",
    "# .delete(array, index, axis)\n",
    "# it will return new array means copy"
   ]
  },
  {
   "cell_type": "code",
   "execution_count": 26,
   "id": "ff72b6c4",
   "metadata": {},
   "outputs": [
    {
     "name": "stdout",
     "output_type": "stream",
     "text": [
      "[5 6 8 9 5]\n"
     ]
    }
   ],
   "source": [
    "arr33 = np.array([3,5,6,8,9,5])\n",
    "print(np.delete(arr33,0,axis=None))"
   ]
  },
  {
   "cell_type": "code",
   "execution_count": 27,
   "id": "aabdade5",
   "metadata": {},
   "outputs": [
    {
     "name": "stdout",
     "output_type": "stream",
     "text": [
      "[[8 9 5]]\n"
     ]
    }
   ],
   "source": [
    "arr33 = np.array([[3,5,6],[8,9,5]])\n",
    "print(np.delete(arr33,0,axis=0))"
   ]
  },
  {
   "cell_type": "markdown",
   "id": "28460236",
   "metadata": {},
   "source": [
    "# stacking : is used to stack the data\n",
    "1. vertically -> vstack() -> row wise\n",
    "2. horizotally -> hstack() -> column wise"
   ]
  },
  {
   "cell_type": "code",
   "execution_count": 28,
   "id": "5f97c4de",
   "metadata": {},
   "outputs": [
    {
     "name": "stdout",
     "output_type": "stream",
     "text": [
      "[[1 2 3]\n",
      " [4 5 6]]\n",
      "[1 2 3 4 5 6]\n"
     ]
    }
   ],
   "source": [
    "arr1 = np.array([1,2,3])\n",
    "arr2 = np.array([4,5,6])\n",
    "print(np.vstack((arr1,arr2)))\n",
    "print(np.hstack((arr1,arr2)))"
   ]
  },
  {
   "cell_type": "markdown",
   "id": "a2beb400",
   "metadata": {},
   "source": [
    "# .split is used to split the array into equal parts and it's also gives an copy of original array\n",
    "# .hsplit for horizontal splitting\n",
    "# .vsplit for vertical splitting"
   ]
  },
  {
   "cell_type": "code",
   "execution_count": 29,
   "id": "636c8ec5",
   "metadata": {},
   "outputs": [
    {
     "name": "stdout",
     "output_type": "stream",
     "text": [
      "[6 8 9 5]\n",
      "[array([6, 8]), array([9, 5])]\n"
     ]
    }
   ],
   "source": [
    "arr33 = np.array([6,8,9,5])\n",
    "print(arr33)\n",
    "print(np.hsplit(arr33,2))"
   ]
  },
  {
   "cell_type": "code",
   "execution_count": 30,
   "id": "924722b0",
   "metadata": {},
   "outputs": [
    {
     "name": "stdout",
     "output_type": "stream",
     "text": [
      "[[6 8]\n",
      " [9 5]]\n",
      "[array([[6, 8]]), array([[9, 5]])]\n"
     ]
    }
   ],
   "source": [
    "arr33 = np.array([[6,8],[9,5]])\n",
    "print(arr33)\n",
    "print(np.vsplit(arr33,2))"
   ]
  },
  {
   "cell_type": "markdown",
   "id": "0b75c720",
   "metadata": {},
   "source": [
    "# broadcasting : used to perform mathamatical operation faster and easily without need of loops and it will expand smaller array to larger array"
   ]
  },
  {
   "cell_type": "code",
   "execution_count": 31,
   "id": "f8c96edc",
   "metadata": {},
   "outputs": [
    {
     "name": "stdout",
     "output_type": "stream",
     "text": [
      "[12 16 18 10]\n"
     ]
    }
   ],
   "source": [
    "arr33 = np.array([6,8,9,5])\n",
    "print(arr33*2)"
   ]
  },
  {
   "cell_type": "code",
   "execution_count": 32,
   "id": "97d7c217",
   "metadata": {},
   "outputs": [
    {
     "name": "stdout",
     "output_type": "stream",
     "text": [
      "[[12 16]\n",
      " [15 13]]\n"
     ]
    }
   ],
   "source": [
    "matrix = np.array([6,8]) # 1d array\n",
    "vector = np.array([[6,8],[9,5]]) # 2d array\n",
    "print(matrix + vector)"
   ]
  },
  {
   "cell_type": "code",
   "execution_count": 33,
   "id": "e0dbd659",
   "metadata": {},
   "outputs": [
    {
     "name": "stdout",
     "output_type": "stream",
     "text": [
      "[[12 16 10]\n",
      " [15 13 16]]\n"
     ]
    }
   ],
   "source": [
    "matrix = np.array([6,8,5,6,8,9]) # 1d array\n",
    "tap = matrix.reshape(2,3)\n",
    "vector = np.array([[6,8,5],[9,5,7]]) # 2d array\n",
    "print(tap + vector)"
   ]
  },
  {
   "cell_type": "markdown",
   "id": "f8686bb8",
   "metadata": {},
   "source": [
    "# vectorization : performing operations on entire array without using a loop at once"
   ]
  },
  {
   "cell_type": "code",
   "execution_count": 34,
   "id": "1b08fce6",
   "metadata": {},
   "outputs": [
    {
     "name": "stdout",
     "output_type": "stream",
     "text": [
      "[ 4 10 18]\n"
     ]
    }
   ],
   "source": [
    "arr1 = np.array([1,2,3])\n",
    "arr2 = np.array([4,5,6])\n",
    "print(arr1 * arr2)"
   ]
  },
  {
   "cell_type": "markdown",
   "id": "3baef4de",
   "metadata": {},
   "source": [
    "# handling missing values:\n",
    "1. np.isnan -> detect missing values\n",
    "2. np.nan_to_num() -> convert nan to number\n",
    "3. np.isinf() -> handle the infinite value\n",
    "# we can not compare np.nan == np.nan directly\n"
   ]
  },
  {
   "cell_type": "code",
   "execution_count": 35,
   "id": "80061db0",
   "metadata": {},
   "outputs": [
    {
     "name": "stdout",
     "output_type": "stream",
     "text": [
      "[False False False  True False]\n"
     ]
    }
   ],
   "source": [
    "arr33 = np.array([6,8,9,np.nan,5])\n",
    "print(np.isnan(arr33))"
   ]
  },
  {
   "cell_type": "code",
   "execution_count": 36,
   "id": "a50b2a28",
   "metadata": {},
   "outputs": [
    {
     "name": "stdout",
     "output_type": "stream",
     "text": [
      "[6. 8. 9. 5. 5.]\n"
     ]
    }
   ],
   "source": [
    "arr33 = np.array([6,8,9,np.nan,5])\n",
    "print(np.nan_to_num(arr33, nan = 5))"
   ]
  },
  {
   "cell_type": "code",
   "execution_count": 37,
   "id": "01d5a875",
   "metadata": {},
   "outputs": [
    {
     "name": "stdout",
     "output_type": "stream",
     "text": [
      "[False False False  True False  True]\n"
     ]
    }
   ],
   "source": [
    "arr33 = np.array([6,8,9,np.inf,5,-np.inf])\n",
    "print(np.isinf(arr33))"
   ]
  },
  {
   "cell_type": "code",
   "execution_count": 38,
   "id": "60aa6ca0",
   "metadata": {},
   "outputs": [
    {
     "name": "stdout",
     "output_type": "stream",
     "text": [
      "[  6.   8.   9.  10.   5. -10.]\n"
     ]
    }
   ],
   "source": [
    "arr33 = np.array([6,8,9,np.inf,5,-np.inf])\n",
    "print(np.nan_to_num(arr33, posinf = 10, neginf = -10))"
   ]
  }
 ],
 "metadata": {
  "kernelspec": {
   "display_name": "Python 3",
   "language": "python",
   "name": "python3"
  },
  "language_info": {
   "codemirror_mode": {
    "name": "ipython",
    "version": 3
   },
   "file_extension": ".py",
   "mimetype": "text/x-python",
   "name": "python",
   "nbconvert_exporter": "python",
   "pygments_lexer": "ipython3",
   "version": "3.12.1"
  }
 },
 "nbformat": 4,
 "nbformat_minor": 5
}
